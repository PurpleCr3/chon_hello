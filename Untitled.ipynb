{
 "cells": [
  {
   "cell_type": "code",
   "execution_count": 2,
   "id": "054fcba0-e807-425a-a198-72c01654677c",
   "metadata": {},
   "outputs": [
    {
     "name": "stdout",
     "output_type": "stream",
     "text": [
      "Collecting line-bot-sdk\n",
      "  Downloading line_bot_sdk-3.7.0-py2.py3-none-any.whl.metadata (13 kB)\n",
      "Requirement already satisfied: requests==2.31.0 in /Users/yamada-aho/.pyenv/versions/3.11.5/lib/python3.11/site-packages (from line-bot-sdk) (2.31.0)\n",
      "Requirement already satisfied: urllib3<3,>=2.0.5 in /Users/yamada-aho/.pyenv/versions/3.11.5/lib/python3.11/site-packages (from line-bot-sdk) (2.0.7)\n",
      "Collecting aiohttp==3.9.1 (from line-bot-sdk)\n",
      "  Downloading aiohttp-3.9.1-cp311-cp311-macosx_10_9_x86_64.whl.metadata (7.4 kB)\n",
      "Collecting future (from line-bot-sdk)\n",
      "  Using cached future-0.18.3-py3-none-any.whl\n",
      "Collecting pydantic<3,>=2.0.3 (from line-bot-sdk)\n",
      "  Downloading pydantic-2.5.3-py3-none-any.whl.metadata (65 kB)\n",
      "\u001b[2K     \u001b[90m━━━━━━━━━━━━━━━━━━━━━━━━━━━━━━━━━━━━━━━\u001b[0m \u001b[32m65.6/65.6 kB\u001b[0m \u001b[31m817.2 kB/s\u001b[0m eta \u001b[36m0:00:00\u001b[0m \u001b[36m0:00:01\u001b[0m\n",
      "\u001b[?25hCollecting aenum>=3.1.11 (from line-bot-sdk)\n",
      "  Using cached aenum-3.1.15-py3-none-any.whl.metadata (3.7 kB)\n",
      "Requirement already satisfied: python-dateutil>=2.5.3 in /Users/yamada-aho/.pyenv/versions/3.11.5/lib/python3.11/site-packages (from line-bot-sdk) (2.8.2)\n",
      "Collecting Deprecated (from line-bot-sdk)\n",
      "  Using cached Deprecated-1.2.14-py2.py3-none-any.whl.metadata (5.4 kB)\n",
      "Requirement already satisfied: attrs>=17.3.0 in /Users/yamada-aho/.pyenv/versions/3.11.5/lib/python3.11/site-packages (from aiohttp==3.9.1->line-bot-sdk) (23.1.0)\n",
      "Collecting multidict<7.0,>=4.5 (from aiohttp==3.9.1->line-bot-sdk)\n",
      "  Using cached multidict-6.0.4-cp311-cp311-macosx_10_9_x86_64.whl (29 kB)\n",
      "Collecting yarl<2.0,>=1.0 (from aiohttp==3.9.1->line-bot-sdk)\n",
      "  Downloading yarl-1.9.4-cp311-cp311-macosx_10_9_x86_64.whl.metadata (31 kB)\n",
      "Collecting frozenlist>=1.1.1 (from aiohttp==3.9.1->line-bot-sdk)\n",
      "  Downloading frozenlist-1.4.1-cp311-cp311-macosx_10_9_x86_64.whl.metadata (12 kB)\n",
      "Collecting aiosignal>=1.1.2 (from aiohttp==3.9.1->line-bot-sdk)\n",
      "  Using cached aiosignal-1.3.1-py3-none-any.whl (7.6 kB)\n",
      "Requirement already satisfied: charset-normalizer<4,>=2 in /Users/yamada-aho/.pyenv/versions/3.11.5/lib/python3.11/site-packages (from requests==2.31.0->line-bot-sdk) (3.3.2)\n",
      "Requirement already satisfied: idna<4,>=2.5 in /Users/yamada-aho/.pyenv/versions/3.11.5/lib/python3.11/site-packages (from requests==2.31.0->line-bot-sdk) (3.4)\n",
      "Requirement already satisfied: certifi>=2017.4.17 in /Users/yamada-aho/.pyenv/versions/3.11.5/lib/python3.11/site-packages (from requests==2.31.0->line-bot-sdk) (2023.7.22)\n",
      "Collecting annotated-types>=0.4.0 (from pydantic<3,>=2.0.3->line-bot-sdk)\n",
      "  Using cached annotated_types-0.6.0-py3-none-any.whl.metadata (12 kB)\n",
      "Collecting pydantic-core==2.14.6 (from pydantic<3,>=2.0.3->line-bot-sdk)\n",
      "  Downloading pydantic_core-2.14.6-cp311-cp311-macosx_10_7_x86_64.whl.metadata (6.5 kB)\n",
      "Collecting typing-extensions>=4.6.1 (from pydantic<3,>=2.0.3->line-bot-sdk)\n",
      "  Using cached typing_extensions-4.9.0-py3-none-any.whl.metadata (3.0 kB)\n",
      "Requirement already satisfied: six>=1.5 in /Users/yamada-aho/.pyenv/versions/3.11.5/lib/python3.11/site-packages (from python-dateutil>=2.5.3->line-bot-sdk) (1.16.0)\n",
      "Collecting wrapt<2,>=1.10 (from Deprecated->line-bot-sdk)\n",
      "  Using cached wrapt-1.16.0-cp311-cp311-macosx_10_9_x86_64.whl.metadata (6.6 kB)\n",
      "Downloading line_bot_sdk-3.7.0-py2.py3-none-any.whl (748 kB)\n",
      "\u001b[2K   \u001b[90m━━━━━━━━━━━━━━━━━━━━━━━━━━━━━━━━━━━━━━━━\u001b[0m \u001b[32m748.7/748.7 kB\u001b[0m \u001b[31m2.6 MB/s\u001b[0m eta \u001b[36m0:00:00\u001b[0m00:01\u001b[0m00:01\u001b[0m\n",
      "\u001b[?25hDownloading aiohttp-3.9.1-cp311-cp311-macosx_10_9_x86_64.whl (397 kB)\n",
      "\u001b[2K   \u001b[90m━━━━━━━━━━━━━━━━━━━━━━━━━━━━━━━━━━━━━━━━\u001b[0m \u001b[32m397.6/397.6 kB\u001b[0m \u001b[31m3.1 MB/s\u001b[0m eta \u001b[36m0:00:00\u001b[0m00:01\u001b[0m00:01\u001b[0m\n",
      "\u001b[?25hUsing cached aenum-3.1.15-py3-none-any.whl (137 kB)\n",
      "Downloading pydantic-2.5.3-py3-none-any.whl (381 kB)\n",
      "\u001b[2K   \u001b[90m━━━━━━━━━━━━━━━━━━━━━━━━━━━━━━━━━━━━━━━━\u001b[0m \u001b[32m381.9/381.9 kB\u001b[0m \u001b[31m3.3 MB/s\u001b[0m eta \u001b[36m0:00:00\u001b[0m00:01\u001b[0m00:01\u001b[0m\n",
      "\u001b[?25hDownloading pydantic_core-2.14.6-cp311-cp311-macosx_10_7_x86_64.whl (1.9 MB)\n",
      "\u001b[2K   \u001b[90m━━━━━━━━━━━━━━━━━━━━━━━━━━━━━━━━━━━━━━━━\u001b[0m \u001b[32m1.9/1.9 MB\u001b[0m \u001b[31m3.3 MB/s\u001b[0m eta \u001b[36m0:00:00\u001b[0m00:01\u001b[0m00:01\u001b[0m\n",
      "\u001b[?25hUsing cached Deprecated-1.2.14-py2.py3-none-any.whl (9.6 kB)\n",
      "Using cached annotated_types-0.6.0-py3-none-any.whl (12 kB)\n",
      "Downloading frozenlist-1.4.1-cp311-cp311-macosx_10_9_x86_64.whl (55 kB)\n",
      "\u001b[2K   \u001b[90m━━━━━━━━━━━━━━━━━━━━━━━━━━━━━━━━━━━━━━━━\u001b[0m \u001b[32m55.3/55.3 kB\u001b[0m \u001b[31m939.0 kB/s\u001b[0m eta \u001b[36m0:00:00\u001b[0m\u001b[36m0:00:01\u001b[0m\n",
      "\u001b[?25hUsing cached typing_extensions-4.9.0-py3-none-any.whl (32 kB)\n",
      "Using cached wrapt-1.16.0-cp311-cp311-macosx_10_9_x86_64.whl (37 kB)\n",
      "Downloading yarl-1.9.4-cp311-cp311-macosx_10_9_x86_64.whl (83 kB)\n",
      "\u001b[2K   \u001b[90m━━━━━━━━━━━━━━━━━━━━━━━━━━━━━━━━━━━━━━━━\u001b[0m \u001b[32m83.2/83.2 kB\u001b[0m \u001b[31m1.7 MB/s\u001b[0m eta \u001b[36m0:00:00\u001b[0m00:01\u001b[0m\n",
      "\u001b[?25hInstalling collected packages: aenum, wrapt, typing-extensions, multidict, future, frozenlist, annotated-types, yarl, pydantic-core, Deprecated, aiosignal, pydantic, aiohttp, line-bot-sdk\n",
      "Successfully installed Deprecated-1.2.14 aenum-3.1.15 aiohttp-3.9.1 aiosignal-1.3.1 annotated-types-0.6.0 frozenlist-1.4.1 future-0.18.3 line-bot-sdk-3.7.0 multidict-6.0.4 pydantic-2.5.3 pydantic-core-2.14.6 typing-extensions-4.9.0 wrapt-1.16.0 yarl-1.9.4\n"
     ]
    }
   ],
   "source": [
    "!pip install line-bot-sdk"
   ]
  },
  {
   "cell_type": "code",
   "execution_count": 3,
   "id": "8dcaac63-e1f9-4df2-9f0d-845cded55aa9",
   "metadata": {},
   "outputs": [],
   "source": [
    "import json"
   ]
  },
  {
   "cell_type": "code",
   "execution_count": 6,
   "id": "c9917da7-20d5-4628-9d2c-64dfd7cdd858",
   "metadata": {},
   "outputs": [],
   "source": [
    "file = open('info.json','r')\n",
    "info = json.load(file)"
   ]
  },
  {
   "cell_type": "code",
   "execution_count": 7,
   "id": "518908aa-35b4-4fff-b3ef-c8d14b1b827c",
   "metadata": {},
   "outputs": [],
   "source": [
    "from linebot import LineBotApi"
   ]
  },
  {
   "cell_type": "code",
   "execution_count": 8,
   "id": "ca61999f-14ff-4e99-8f33-7373df6362fa",
   "metadata": {},
   "outputs": [],
   "source": [
    "from linebot.models import TextSendMessage"
   ]
  },
  {
   "cell_type": "code",
   "execution_count": 12,
   "id": "6e787f21-9db0-45ce-907e-bd0b108a9cff",
   "metadata": {},
   "outputs": [
    {
     "name": "stderr",
     "output_type": "stream",
     "text": [
      "/var/folders/sz/x9v1b5ks7b15159lcsz4k99w0000gn/T/ipykernel_94615/1917206927.py:2: LineBotSdkDeprecatedIn30: Call to deprecated class LineBotApi. (Use v3 class; linebot.v3.<feature>. See https://github.com/line/line-bot-sdk-python/blob/master/README.rst for more details.) -- Deprecated since version 3.0.0.\n",
      "  line_bot_api = LineBotApi(CHNNNEL_ACCESS_TOKEN)\n"
     ]
    }
   ],
   "source": [
    "CHANNEL_ACCESS_TOKEN = info['CHANNEL_ACCESS_TOKEN']\n",
    "line_bot_api = LineBotApi(CHANNEL_ACCESS_TOKEN)"
   ]
  },
  {
   "cell_type": "code",
   "execution_count": 17,
   "id": "a9ffe298-d235-40ea-8e9b-b415a960300c",
   "metadata": {},
   "outputs": [
    {
     "name": "stderr",
     "output_type": "stream",
     "text": [
      "/var/folders/sz/x9v1b5ks7b15159lcsz4k99w0000gn/T/ipykernel_94615/4214708290.py:4: LineBotSdkDeprecatedIn30: Call to deprecated method push_message. (Use 'from linebot.v3.messaging import MessagingApi' and 'MessagingApi(...).push_message(...)' instead. See https://github.com/line/line-bot-sdk-python/blob/master/README.rst for more details.) -- Deprecated since version 3.0.0.\n",
      "  line_bot_api.push_message(USER_ID, messages = messages)\n"
     ]
    }
   ],
   "source": [
    "def main():\n",
    "    USER_ID = info['USER_ID']\n",
    "    messages = TextSendMessage(text='ますみさん！\\n おはようございます！')\n",
    "    line_bot_api.push_message(USER_ID, messages = messages)\n",
    "\n",
    "if __name__==\"__main__\":\n",
    "    main()"
   ]
  },
  {
   "cell_type": "code",
   "execution_count": null,
   "id": "bdcb8fa3-9739-46f1-97b8-d46df0c1e56e",
   "metadata": {},
   "outputs": [],
   "source": []
  }
 ],
 "metadata": {
  "kernelspec": {
   "display_name": "Python 3 (ipykernel)",
   "language": "python",
   "name": "python3"
  },
  "language_info": {
   "codemirror_mode": {
    "name": "ipython",
    "version": 3
   },
   "file_extension": ".py",
   "mimetype": "text/x-python",
   "name": "python",
   "nbconvert_exporter": "python",
   "pygments_lexer": "ipython3",
   "version": "3.11.5"
  }
 },
 "nbformat": 4,
 "nbformat_minor": 5
}
