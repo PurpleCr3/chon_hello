{
 "cells": [
  {
   "cell_type": "code",
   "execution_count": 2,
   "id": "054fcba0-e807-425a-a198-72c01654677c",
   "metadata": {},
   "outputs": [
    {
     "name": "stdout",
     "output_type": "stream",
     "text": [
      "Requirement already satisfied: line-bot-sdk in /Users/yamada-aho/.pyenv/versions/3.11.5/lib/python3.11/site-packages (3.7.0)\n",
      "Requirement already satisfied: requests==2.31.0 in /Users/yamada-aho/.pyenv/versions/3.11.5/lib/python3.11/site-packages (from line-bot-sdk) (2.31.0)\n",
      "Requirement already satisfied: urllib3<3,>=2.0.5 in /Users/yamada-aho/.pyenv/versions/3.11.5/lib/python3.11/site-packages (from line-bot-sdk) (2.0.7)\n",
      "Requirement already satisfied: aiohttp==3.9.1 in /Users/yamada-aho/.pyenv/versions/3.11.5/lib/python3.11/site-packages (from line-bot-sdk) (3.9.1)\n",
      "Requirement already satisfied: future in /Users/yamada-aho/.pyenv/versions/3.11.5/lib/python3.11/site-packages (from line-bot-sdk) (0.18.3)\n",
      "Requirement already satisfied: pydantic<3,>=2.0.3 in /Users/yamada-aho/.pyenv/versions/3.11.5/lib/python3.11/site-packages (from line-bot-sdk) (2.5.3)\n",
      "Requirement already satisfied: aenum>=3.1.11 in /Users/yamada-aho/.pyenv/versions/3.11.5/lib/python3.11/site-packages (from line-bot-sdk) (3.1.15)\n",
      "Requirement already satisfied: python-dateutil>=2.5.3 in /Users/yamada-aho/.pyenv/versions/3.11.5/lib/python3.11/site-packages (from line-bot-sdk) (2.8.2)\n",
      "Requirement already satisfied: Deprecated in /Users/yamada-aho/.pyenv/versions/3.11.5/lib/python3.11/site-packages (from line-bot-sdk) (1.2.14)\n",
      "Requirement already satisfied: attrs>=17.3.0 in /Users/yamada-aho/.pyenv/versions/3.11.5/lib/python3.11/site-packages (from aiohttp==3.9.1->line-bot-sdk) (23.1.0)\n",
      "Requirement already satisfied: multidict<7.0,>=4.5 in /Users/yamada-aho/.pyenv/versions/3.11.5/lib/python3.11/site-packages (from aiohttp==3.9.1->line-bot-sdk) (6.0.4)\n",
      "Requirement already satisfied: yarl<2.0,>=1.0 in /Users/yamada-aho/.pyenv/versions/3.11.5/lib/python3.11/site-packages (from aiohttp==3.9.1->line-bot-sdk) (1.9.4)\n",
      "Requirement already satisfied: frozenlist>=1.1.1 in /Users/yamada-aho/.pyenv/versions/3.11.5/lib/python3.11/site-packages (from aiohttp==3.9.1->line-bot-sdk) (1.4.1)\n",
      "Requirement already satisfied: aiosignal>=1.1.2 in /Users/yamada-aho/.pyenv/versions/3.11.5/lib/python3.11/site-packages (from aiohttp==3.9.1->line-bot-sdk) (1.3.1)\n",
      "Requirement already satisfied: charset-normalizer<4,>=2 in /Users/yamada-aho/.pyenv/versions/3.11.5/lib/python3.11/site-packages (from requests==2.31.0->line-bot-sdk) (3.3.2)\n",
      "Requirement already satisfied: idna<4,>=2.5 in /Users/yamada-aho/.pyenv/versions/3.11.5/lib/python3.11/site-packages (from requests==2.31.0->line-bot-sdk) (3.4)\n",
      "Requirement already satisfied: certifi>=2017.4.17 in /Users/yamada-aho/.pyenv/versions/3.11.5/lib/python3.11/site-packages (from requests==2.31.0->line-bot-sdk) (2023.7.22)\n",
      "Requirement already satisfied: annotated-types>=0.4.0 in /Users/yamada-aho/.pyenv/versions/3.11.5/lib/python3.11/site-packages (from pydantic<3,>=2.0.3->line-bot-sdk) (0.6.0)\n",
      "Requirement already satisfied: pydantic-core==2.14.6 in /Users/yamada-aho/.pyenv/versions/3.11.5/lib/python3.11/site-packages (from pydantic<3,>=2.0.3->line-bot-sdk) (2.14.6)\n",
      "Requirement already satisfied: typing-extensions>=4.6.1 in /Users/yamada-aho/.pyenv/versions/3.11.5/lib/python3.11/site-packages (from pydantic<3,>=2.0.3->line-bot-sdk) (4.9.0)\n",
      "Requirement already satisfied: six>=1.5 in /Users/yamada-aho/.pyenv/versions/3.11.5/lib/python3.11/site-packages (from python-dateutil>=2.5.3->line-bot-sdk) (1.16.0)\n",
      "Requirement already satisfied: wrapt<2,>=1.10 in /Users/yamada-aho/.pyenv/versions/3.11.5/lib/python3.11/site-packages (from Deprecated->line-bot-sdk) (1.16.0)\n"
     ]
    }
   ],
   "source": [
    "!pip install line-bot-sdk"
   ]
  },
  {
   "cell_type": "code",
   "execution_count": 3,
   "id": "8dcaac63-e1f9-4df2-9f0d-845cded55aa9",
   "metadata": {},
   "outputs": [],
   "source": [
    "import json"
   ]
  },
  {
   "cell_type": "code",
   "execution_count": 4,
   "id": "c9917da7-20d5-4628-9d2c-64dfd7cdd858",
   "metadata": {},
   "outputs": [],
   "source": [
    "file = open('info.json','r')\n",
    "info = json.load(file)"
   ]
  },
  {
   "cell_type": "code",
   "execution_count": 5,
   "id": "518908aa-35b4-4fff-b3ef-c8d14b1b827c",
   "metadata": {},
   "outputs": [],
   "source": [
    "from linebot import LineBotApi"
   ]
  },
  {
   "cell_type": "code",
   "execution_count": 6,
   "id": "ca61999f-14ff-4e99-8f33-7373df6362fa",
   "metadata": {},
   "outputs": [],
   "source": [
    "from linebot.models import TextSendMessage"
   ]
  },
  {
   "cell_type": "code",
   "execution_count": 7,
   "id": "6e787f21-9db0-45ce-907e-bd0b108a9cff",
   "metadata": {},
   "outputs": [
    {
     "ename": "KeyError",
     "evalue": "'CHANNEL_ACCESS_TOKEN'",
     "output_type": "error",
     "traceback": [
      "\u001b[0;31m---------------------------------------------------------------------------\u001b[0m",
      "\u001b[0;31mKeyError\u001b[0m                                  Traceback (most recent call last)",
      "Cell \u001b[0;32mIn[7], line 1\u001b[0m\n\u001b[0;32m----> 1\u001b[0m CHANNEL_ACCESS_TOKEN \u001b[38;5;241m=\u001b[39m \u001b[43minfo\u001b[49m\u001b[43m[\u001b[49m\u001b[38;5;124;43m'\u001b[39;49m\u001b[38;5;124;43mCHANNEL_ACCESS_TOKEN\u001b[39;49m\u001b[38;5;124;43m'\u001b[39;49m\u001b[43m]\u001b[49m\n\u001b[1;32m      2\u001b[0m line_bot_api \u001b[38;5;241m=\u001b[39m LineBotApi(CHANNEL_ACCESS_TOKEN)\n",
      "\u001b[0;31mKeyError\u001b[0m: 'CHANNEL_ACCESS_TOKEN'"
     ]
    }
   ],
   "source": [
    "CHANNEL_ACCESS_TOKEN = info['CHANNEL_ACCESS_TOKEN']\n",
    "line_bot_api = LineBotApi(CHANNEL_ACCESS_TOKEN)"
   ]
  },
  {
   "cell_type": "code",
   "execution_count": 8,
   "id": "a9ffe298-d235-40ea-8e9b-b415a960300c",
   "metadata": {},
   "outputs": [
    {
     "ename": "NameError",
     "evalue": "name 'line_bot_api' is not defined",
     "output_type": "error",
     "traceback": [
      "\u001b[0;31m---------------------------------------------------------------------------\u001b[0m",
      "\u001b[0;31mNameError\u001b[0m                                 Traceback (most recent call last)",
      "Cell \u001b[0;32mIn[8], line 7\u001b[0m\n\u001b[1;32m      4\u001b[0m     line_bot_api\u001b[38;5;241m.\u001b[39mpush_message(USER_ID, messages \u001b[38;5;241m=\u001b[39m messages)\n\u001b[1;32m      6\u001b[0m \u001b[38;5;28;01mif\u001b[39;00m \u001b[38;5;18m__name__\u001b[39m\u001b[38;5;241m==\u001b[39m\u001b[38;5;124m\"\u001b[39m\u001b[38;5;124m__main__\u001b[39m\u001b[38;5;124m\"\u001b[39m:\n\u001b[0;32m----> 7\u001b[0m     \u001b[43mmain\u001b[49m\u001b[43m(\u001b[49m\u001b[43m)\u001b[49m\n",
      "Cell \u001b[0;32mIn[8], line 4\u001b[0m, in \u001b[0;36mmain\u001b[0;34m()\u001b[0m\n\u001b[1;32m      2\u001b[0m USER_ID \u001b[38;5;241m=\u001b[39m info[\u001b[38;5;124m'\u001b[39m\u001b[38;5;124mUSER_ID\u001b[39m\u001b[38;5;124m'\u001b[39m]\n\u001b[1;32m      3\u001b[0m messages \u001b[38;5;241m=\u001b[39m TextSendMessage(text\u001b[38;5;241m=\u001b[39m\u001b[38;5;124m'\u001b[39m\u001b[38;5;124mますみさん！\u001b[39m\u001b[38;5;130;01m\\n\u001b[39;00m\u001b[38;5;124m おはようございます！\u001b[39m\u001b[38;5;124m'\u001b[39m)\n\u001b[0;32m----> 4\u001b[0m \u001b[43mline_bot_api\u001b[49m\u001b[38;5;241m.\u001b[39mpush_message(USER_ID, messages \u001b[38;5;241m=\u001b[39m messages)\n",
      "\u001b[0;31mNameError\u001b[0m: name 'line_bot_api' is not defined"
     ]
    }
   ],
   "source": [
    "def main():\n",
    "    USER_ID = info['USER_ID']\n",
    "    messages = TextSendMessage(text='ますみさん！\\n おはようございます！')\n",
    "    line_bot_api.push_message(USER_ID, messages = messages)\n",
    "\n",
    "if __name__==\"__main__\":\n",
    "    main()"
   ]
  },
  {
   "cell_type": "code",
   "execution_count": null,
   "id": "bdcb8fa3-9739-46f1-97b8-d46df0c1e56e",
   "metadata": {},
   "outputs": [],
   "source": []
  }
 ],
 "metadata": {
  "kernelspec": {
   "display_name": "Python 3 (ipykernel)",
   "language": "python",
   "name": "python3"
  },
  "language_info": {
   "codemirror_mode": {
    "name": "ipython",
    "version": 3
   },
   "file_extension": ".py",
   "mimetype": "text/x-python",
   "name": "python",
   "nbconvert_exporter": "python",
   "pygments_lexer": "ipython3",
   "version": "3.11.5"
  }
 },
 "nbformat": 4,
 "nbformat_minor": 5
}
